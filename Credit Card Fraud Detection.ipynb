{
 "cells": [
  {
   "cell_type": "markdown",
   "metadata": {
    "_uuid": "045a7ecc7451d13d8ef3b04daaf65884d1f815a9"
   },
   "source": [
    "# Identifying Common Point of Compromise\n",
    "\n",
    "\n",
    "This notebook showcases Mo Messidi's analysis of a dataset of debit and credit card transactions to identify the time and place of a common point of comprimise.\n",
    "\n",
    "## Background:\n",
    " \n",
    "\n",
    "### Transaction Fraud\n",
    "Many of Featurespace’s clients are commercial banks, who issue debit and credit cards to customers. The customers then use these cards to make purchases at various merchants (for example, Amazon, Tesco etc). Information about each purchase or attempted purchase is stored as a transaction record by the commercial bank.\n",
    "\n",
    "A fraudulent transaction is an unauthorised use of a card. A fraudster may use a stolen card or card details (card number, security code, PIN number) to make a purchase or to withdraw money from an account. The information required to commit fraud may have been acquired opportunistically, for example by finding a lost card. However, in many cases, card data will have been acquired at a common point of compromise \n",
    "\n",
    "### Common Points of Compromise\n",
    "A common point of compromise is a breach point used by fraudsters to collect card data. This can be a physical location, such as a skimmer fitted on an ATM; alternatively, a virtual breach, such as data stolen from a merchant’s database of transactions, can be the point of compromise. Identifying common points of compromise is important for commercial banks, as it allows them to block or monitor other accounts at risk of fraud. \n",
    "\n",
    "Exploitation of a common point of compromise typically occurs in a two-stage process. This is illustrated in the schematic plot below.\n",
    "\n",
    "In the first stage of the compromise, account details are harvested from the compromise point. In the second stage of the compromise, these compromised account details are used to make fraudulent transactions. There is typically a delay of several days between harvest and exploit, as it takes time for a fraudster to process the data that they have harvested.\n",
    "\n",
    "In a set of transactions, a common point of compromise can be identified when an unusually high number of defrauded accounts transacted with the same merchant some time before fraudulent transactions were seen for that account.\n",
    "\n",
    "## The objectives of the analysis are to:\n",
    "\n",
    "- Identify the compromised merchant\n",
    "- Identify the dates of the compromise\n",
    "- Identify the date of the exploitation\n",
    "\n",
    "Code is using Python3. The imported libraries are numpy, pandas and matplotlib.\n",
    "The dataset .csv file should be in the same folder as this code\n",
    "\n",
    "### Import Requirements"
   ]
  },
  {
   "cell_type": "code",
   "execution_count": 1,
   "metadata": {
    "_uuid": "a27def112ae8c7c7c20c1ebe451613deb1f83940"
   },
   "outputs": [],
   "source": [
    "import numpy as np\n",
    "import pandas as pd\n",
    "import matplotlib.pyplot as plt\n",
    "\n",
    "\n"
   ]
  },
  {
   "cell_type": "markdown",
   "metadata": {
    "_uuid": "5b0d7c660f0db3474af7b949a1f6ffb0f050cb9d"
   },
   "source": [
    "## Load data"
   ]
  },
  {
   "cell_type": "code",
   "execution_count": 2,
   "metadata": {
    "_uuid": "ab4706fc69ab2c7e7bf47895514b182217ac4adc"
   },
   "outputs": [
    {
     "data": {
      "text/html": [
       "<div>\n",
       "<style scoped>\n",
       "    .dataframe tbody tr th:only-of-type {\n",
       "        vertical-align: middle;\n",
       "    }\n",
       "\n",
       "    .dataframe tbody tr th {\n",
       "        vertical-align: top;\n",
       "    }\n",
       "\n",
       "    .dataframe thead th {\n",
       "        text-align: right;\n",
       "    }\n",
       "</style>\n",
       "<table border=\"1\" class=\"dataframe\">\n",
       "  <thead>\n",
       "    <tr style=\"text-align: right;\">\n",
       "      <th></th>\n",
       "      <th>account</th>\n",
       "      <th>date</th>\n",
       "      <th>fraud</th>\n",
       "      <th>merchant</th>\n",
       "    </tr>\n",
       "  </thead>\n",
       "  <tbody>\n",
       "    <tr>\n",
       "      <th>0</th>\n",
       "      <td>A0</td>\n",
       "      <td>2015-01-01</td>\n",
       "      <td>False</td>\n",
       "      <td>M98</td>\n",
       "    </tr>\n",
       "    <tr>\n",
       "      <th>1</th>\n",
       "      <td>A0</td>\n",
       "      <td>2015-01-01</td>\n",
       "      <td>False</td>\n",
       "      <td>M50</td>\n",
       "    </tr>\n",
       "    <tr>\n",
       "      <th>2</th>\n",
       "      <td>A0</td>\n",
       "      <td>2015-01-01</td>\n",
       "      <td>False</td>\n",
       "      <td>M55</td>\n",
       "    </tr>\n",
       "    <tr>\n",
       "      <th>3</th>\n",
       "      <td>A0</td>\n",
       "      <td>2015-01-01</td>\n",
       "      <td>False</td>\n",
       "      <td>M14</td>\n",
       "    </tr>\n",
       "    <tr>\n",
       "      <th>4</th>\n",
       "      <td>A0</td>\n",
       "      <td>2015-01-01</td>\n",
       "      <td>False</td>\n",
       "      <td>M10</td>\n",
       "    </tr>\n",
       "  </tbody>\n",
       "</table>\n",
       "</div>"
      ],
      "text/plain": [
       "  account        date  fraud merchant\n",
       "0      A0  2015-01-01  False      M98\n",
       "1      A0  2015-01-01  False      M50\n",
       "2      A0  2015-01-01  False      M55\n",
       "3      A0  2015-01-01  False      M14\n",
       "4      A0  2015-01-01  False      M10"
      ]
     },
     "execution_count": 2,
     "metadata": {},
     "output_type": "execute_result"
    }
   ],
   "source": [
    "df = pd.read_csv('intern_2019_transactions_simple.csv')\n",
    "\n",
    "df.head(5)"
   ]
  },
  {
   "cell_type": "markdown",
   "metadata": {
    "_uuid": "b5160be73a7933d54a57778f4399a61ebe386c40"
   },
   "source": [
    "### Exploratory Data Anlysis"
   ]
  },
  {
   "cell_type": "code",
   "execution_count": 3,
   "metadata": {
    "_uuid": "466448b252c0405e83c6fd5171bfce42b6152ab1"
   },
   "outputs": [
    {
     "name": "stdout",
     "output_type": "stream",
     "text": [
      "<class 'pandas.core.frame.DataFrame'>\n",
      "RangeIndex: 89851 entries, 0 to 89850\n",
      "Data columns (total 4 columns):\n",
      "account     89851 non-null object\n",
      "date        89851 non-null object\n",
      "fraud       89851 non-null bool\n",
      "merchant    89851 non-null object\n",
      "dtypes: bool(1), object(3)\n",
      "memory usage: 2.1+ MB\n"
     ]
    }
   ],
   "source": [
    "df.info()"
   ]
  },
  {
   "cell_type": "markdown",
   "metadata": {
    "_uuid": "fb9546f1542b66adbdf4b44e66adc4a9e4fe4645"
   },
   "source": [
    "### Observations :\n",
    "- Dataset has 4 features [account, date, fraud, merchant]\n",
    "- Dataset has 89851 records each representing a transation\n",
    "- Dataset contains no null values\n",
    "- date column is in string format \n",
    "\n",
    "\n",
    "### Actions: \n",
    "It would be more appropirate to change the date column to datetime format."
   ]
  },
  {
   "cell_type": "code",
   "execution_count": 4,
   "metadata": {
    "_uuid": "ea3b99b90c3dbc152b1d477425362ccc2cf488df"
   },
   "outputs": [
    {
     "data": {
      "text/html": [
       "<div>\n",
       "<style scoped>\n",
       "    .dataframe tbody tr th:only-of-type {\n",
       "        vertical-align: middle;\n",
       "    }\n",
       "\n",
       "    .dataframe tbody tr th {\n",
       "        vertical-align: top;\n",
       "    }\n",
       "\n",
       "    .dataframe thead th {\n",
       "        text-align: right;\n",
       "    }\n",
       "</style>\n",
       "<table border=\"1\" class=\"dataframe\">\n",
       "  <thead>\n",
       "    <tr style=\"text-align: right;\">\n",
       "      <th></th>\n",
       "      <th>account</th>\n",
       "      <th>date</th>\n",
       "      <th>fraud</th>\n",
       "      <th>merchant</th>\n",
       "    </tr>\n",
       "  </thead>\n",
       "  <tbody>\n",
       "    <tr>\n",
       "      <th>count</th>\n",
       "      <td>89851</td>\n",
       "      <td>89851</td>\n",
       "      <td>89851</td>\n",
       "      <td>89851</td>\n",
       "    </tr>\n",
       "    <tr>\n",
       "      <th>unique</th>\n",
       "      <td>1000</td>\n",
       "      <td>30</td>\n",
       "      <td>2</td>\n",
       "      <td>100</td>\n",
       "    </tr>\n",
       "    <tr>\n",
       "      <th>top</th>\n",
       "      <td>A831</td>\n",
       "      <td>2015-01-12 00:00:00</td>\n",
       "      <td>False</td>\n",
       "      <td>M8</td>\n",
       "    </tr>\n",
       "    <tr>\n",
       "      <th>freq</th>\n",
       "      <td>121</td>\n",
       "      <td>3081</td>\n",
       "      <td>88503</td>\n",
       "      <td>998</td>\n",
       "    </tr>\n",
       "    <tr>\n",
       "      <th>first</th>\n",
       "      <td>NaN</td>\n",
       "      <td>2015-01-01 00:00:00</td>\n",
       "      <td>NaN</td>\n",
       "      <td>NaN</td>\n",
       "    </tr>\n",
       "    <tr>\n",
       "      <th>last</th>\n",
       "      <td>NaN</td>\n",
       "      <td>2015-01-30 00:00:00</td>\n",
       "      <td>NaN</td>\n",
       "      <td>NaN</td>\n",
       "    </tr>\n",
       "  </tbody>\n",
       "</table>\n",
       "</div>"
      ],
      "text/plain": [
       "       account                 date  fraud merchant\n",
       "count    89851                89851  89851    89851\n",
       "unique    1000                   30      2      100\n",
       "top       A831  2015-01-12 00:00:00  False       M8\n",
       "freq       121                 3081  88503      998\n",
       "first      NaN  2015-01-01 00:00:00    NaN      NaN\n",
       "last       NaN  2015-01-30 00:00:00    NaN      NaN"
      ]
     },
     "execution_count": 4,
     "metadata": {},
     "output_type": "execute_result"
    }
   ],
   "source": [
    "df['date'] = pd.to_datetime(df['date'])\n",
    "\n",
    "df.describe(include='all')"
   ]
  },
  {
   "cell_type": "markdown",
   "metadata": {
    "_uuid": "6c8aff773e1a491feb500b196f3d4466665a7350"
   },
   "source": [
    "### Observations: \n",
    "- Dataset contins 1000 accounts, 100 merchants\n",
    "- The transactions span 30 days from 2015-01-01 to 2015-01-30\n",
    "- A831 is the count with most transactions\n",
    "- M8 is the merchant most transacted from\n",
    "- Out of the all 8951 transations 88503 are true => 1348 are fraudulent\n",
    "\n",
    "### Actions:\n",
    "Given the that only 1348 transactions were fraudulent out of 8951. Plotting a histogram of fraudulent transations per day may reveal dates of interest."
   ]
  },
  {
   "cell_type": "code",
   "execution_count": 5,
   "metadata": {
    "_uuid": "d64f09b56a7258dff9aca55ff95b491eda65b063"
   },
   "outputs": [
    {
     "data": {
      "image/png": "[encoded data removed]",
      "text/plain": [
       "<Figure size 1440x576 with 1 Axes>"
      ]
     },
     "metadata": {
      "needs_background": "light"
     },
     "output_type": "display_data"
    }
   ],
   "source": [
    "fraud_transactions = df[df['fraud'] == True]\n",
    "\n",
    "# the histogram of fraudulent transactions by day\n",
    "plt.figure(figsize=(20,8))\n",
    "plt.hist(x=fraud_transactions['date'],bins=30,alpha=0.7, rwidth=0.85, color='red')\n",
    "plt.xlabel('Date')\n",
    "plt.ylabel('Number of Transactions')\n",
    "plt.title('Number of Fraudulent vs. Date')\n",
    "plt.xticks(rotation='vertical')\n",
    "plt.grid(True)\n",
    "plt.xlim([pd.Timestamp(2015,1,1),pd.Timestamp(2015,1,30)])\n",
    "plt.savefig('plot1.png')\n",
    "plt.show()"
   ]
  },
  {
   "cell_type": "markdown",
   "metadata": {
    "_uuid": "1596a6c42eea91de68d7082e103d5058b56d4427"
   },
   "source": [
    "### Observatons\n",
    "- The date range 2015-01-21 to 2015-01-23 has a very high number of fraudulent transactions: ~175\n",
    "- All other days have closer to 30 fradulent transactions.\n",
    "- The date range 2015-01-21 to 2015-01-23 is a very strong canidate for exploit period of after a point of compromise.\n",
    "\n",
    "## Actions\n",
    "Given this date range of interest. Exploring the accounts used in this period could provide information on accounts used in the common point of compromise.\n"
   ]
  },
  {
   "cell_type": "code",
   "execution_count": 6,
   "metadata": {
    "_uuid": "ada20100be6c28ff11b7350c704304aa43964cd2"
   },
   "outputs": [
    {
     "data": {
      "text/html": [
       "<div>\n",
       "<style scoped>\n",
       "    .dataframe tbody tr th:only-of-type {\n",
       "        vertical-align: middle;\n",
       "    }\n",
       "\n",
       "    .dataframe tbody tr th {\n",
       "        vertical-align: top;\n",
       "    }\n",
       "\n",
       "    .dataframe thead th {\n",
       "        text-align: right;\n",
       "    }\n",
       "</style>\n",
       "<table border=\"1\" class=\"dataframe\">\n",
       "  <thead>\n",
       "    <tr style=\"text-align: right;\">\n",
       "      <th></th>\n",
       "      <th>account</th>\n",
       "      <th>date</th>\n",
       "      <th>fraud</th>\n",
       "      <th>merchant</th>\n",
       "    </tr>\n",
       "  </thead>\n",
       "  <tbody>\n",
       "    <tr>\n",
       "      <th>count</th>\n",
       "      <td>551</td>\n",
       "      <td>551</td>\n",
       "      <td>551</td>\n",
       "      <td>551</td>\n",
       "    </tr>\n",
       "    <tr>\n",
       "      <th>unique</th>\n",
       "      <td>148</td>\n",
       "      <td>3</td>\n",
       "      <td>1</td>\n",
       "      <td>100</td>\n",
       "    </tr>\n",
       "    <tr>\n",
       "      <th>top</th>\n",
       "      <td>A746</td>\n",
       "      <td>2015-01-22 00:00:00</td>\n",
       "      <td>True</td>\n",
       "      <td>M24</td>\n",
       "    </tr>\n",
       "    <tr>\n",
       "      <th>freq</th>\n",
       "      <td>15</td>\n",
       "      <td>188</td>\n",
       "      <td>551</td>\n",
       "      <td>10</td>\n",
       "    </tr>\n",
       "    <tr>\n",
       "      <th>first</th>\n",
       "      <td>NaN</td>\n",
       "      <td>2015-01-21 00:00:00</td>\n",
       "      <td>NaN</td>\n",
       "      <td>NaN</td>\n",
       "    </tr>\n",
       "    <tr>\n",
       "      <th>last</th>\n",
       "      <td>NaN</td>\n",
       "      <td>2015-01-23 00:00:00</td>\n",
       "      <td>NaN</td>\n",
       "      <td>NaN</td>\n",
       "    </tr>\n",
       "  </tbody>\n",
       "</table>\n",
       "</div>"
      ],
      "text/plain": [
       "       account                 date fraud merchant\n",
       "count      551                  551   551      551\n",
       "unique     148                    3     1      100\n",
       "top       A746  2015-01-22 00:00:00  True      M24\n",
       "freq        15                  188   551       10\n",
       "first      NaN  2015-01-21 00:00:00   NaN      NaN\n",
       "last       NaN  2015-01-23 00:00:00   NaN      NaN"
      ]
     },
     "execution_count": 6,
     "metadata": {},
     "output_type": "execute_result"
    }
   ],
   "source": [
    "# get transactions in exploit perdiod\n",
    "exploit_transations = fraud_transactions[(fraud_transactions['date'] >= pd.Timestamp(2015,1,21)) &\n",
    "                                         (fraud_transactions['date'] <= pd.Timestamp(2015,1,23))]\n",
    "\n",
    "#list of exploited accounts\n",
    "exploited_accounts = exploit_transations['account']\n",
    "\n",
    "exploit_transations.describe()\n"
   ]
  },
  {
   "cell_type": "markdown",
   "metadata": {
    "_uuid": "b370045adc3beb3b9b6b72c93033d3b27fa3180a"
   },
   "source": [
    "### Observations:\n",
    "- There were 148 unique accounts used in the exploit period\n",
    "- Tranactions occurred at all 100 merchants during the exploit period\n",
    "\n",
    "### Actions\n",
    "- Given a list of accounts used in the exploit period. Analyzing the transation history of those 148 accounts in the days before the exploit (2015-01-01 to 2015-01-20) could give hints on possible compromised merchants"
   ]
  },
  {
   "cell_type": "code",
   "execution_count": 7,
   "metadata": {
    "_uuid": "43fa9e0630333c55f6937d93a4263d708b6643b8"
   },
   "outputs": [
    {
     "data": {
      "text/plain": [
       "merchant\n",
       "M18    91\n",
       "M8     78\n",
       "M61    77\n",
       "M94    76\n",
       "M53    75\n",
       "M76    75\n",
       "M92    74\n",
       "M31    74\n",
       "M48    74\n",
       "M17    73\n",
       "Name: account, dtype: int64"
      ]
     },
     "execution_count": 7,
     "metadata": {},
     "output_type": "execute_result"
    }
   ],
   "source": [
    "#get transactions of exploited accounts before exploit stare date\n",
    "exploited_accounts_history = df[(df['date'] < pd.Timestamp(2015,1,21)) &\n",
    "                                df['account'].isin(exploited_accounts)]\n",
    "\n",
    "#find merchants that are common between the heights numbers of exploited accounts\n",
    "history_per_merchant = exploited_accounts_history.groupby(['merchant'])['account'].nunique().sort_values(ascending=False)\n",
    "history_per_merchant.head(10)\n",
    "\n"
   ]
  },
  {
   "cell_type": "markdown",
   "metadata": {
    "_uuid": "c75dbb183db93dab5b46e5fd0dc2dc82c264a44d"
   },
   "source": [
    "### Observations:\n",
    "- 91 out of 128 suspect accounts from the exploit period make a transacton with Merchant 'M18'\n",
    "- There is a significant jump between number of unique suspect accounts that transacted with Merchant 'M18' and the rest of the top 10 merchants in the list.\n",
    "\n",
    "### Actions: \n",
    "Analysing the distribution of transactions made before the exploit period for the top 3 merchants can confirm which merchant is the compromised one and also hint at the compromise harvest dates"
   ]
  },
  {
   "cell_type": "code",
   "execution_count": 8,
   "metadata": {
    "_uuid": "9e93a4a694e5f81b1aca8dd2c8b43b8a2b89c826"
   },
   "outputs": [
    {
     "data": {
      "image/png": "[encoded data removed]",
      "text/plain": [
       "<Figure size 1440x576 with 1 Axes>"
      ]
     },
     "metadata": {
      "needs_background": "light"
     },
     "output_type": "display_data"
    }
   ],
   "source": [
    "\n",
    "# the histogram of transactions of merchant 'M18' per day from the exploited accounts\n",
    "plt.figure(figsize=(20,8))\n",
    "plt.hist(x=exploited_accounts_history[exploited_accounts_history['merchant'] == 'M18']['date'],bins=20,alpha=0.7, rwidth=0.85, color='green')\n",
    "plt.xlabel('Date')\n",
    "plt.ylabel('Number of Transactions')\n",
    "plt.title('Number of Transactions from Exploited Accounts with Merchant M18 vs. Date')\n",
    "plt.xticks(rotation='vertical')\n",
    "plt.ylim([0,35])\n",
    "plt.grid(True)\n",
    "plt.xlim([pd.Timestamp(2015,1,1),pd.Timestamp(2015,1,20)])\n",
    "plt.savefig('plot2.png')\n",
    "plt.show()"
   ]
  },
  {
   "cell_type": "code",
   "execution_count": 9,
   "metadata": {
    "_uuid": "d7271df61200429f1029614465842f2b394c853e"
   },
   "outputs": [
    {
     "data": {
      "image/png": "[encoded data removed]",
      "text/plain": [
       "<Figure size 1440x576 with 1 Axes>"
      ]
     },
     "metadata": {
      "needs_background": "light"
     },
     "output_type": "display_data"
    }
   ],
   "source": [
    "# the histogram of transactions of merchant 'M8' per day from the exploited accounts\n",
    "plt.figure(figsize=(20,8))\n",
    "plt.hist(x=exploited_accounts_history[exploited_accounts_history['merchant'] == 'M8']['date'],bins=20,alpha=0.7, rwidth=0.85, color='green')\n",
    "plt.xlabel('Date')\n",
    "plt.ylabel('Number of Transactions')\n",
    "plt.title('Number of Transactions from Exploited Accounts with Merchant M8 vs. Date')\n",
    "plt.ylim((0,35))\n",
    "plt.xticks(rotation='vertical')\n",
    "plt.grid(True)\n",
    "plt.xlim([pd.Timestamp(2015,1,1),pd.Timestamp(2015,1,20)])\n",
    "plt.savefig('plot3.png')\n",
    "plt.show()"
   ]
  },
  {
   "cell_type": "code",
   "execution_count": 10,
   "metadata": {
    "_uuid": "62ad0782fb23ba286feff3a571b498d2ae360179"
   },
   "outputs": [
    {
     "data": {
      "image/png": "[encoded data removed]",
      "text/plain": [
       "<Figure size 1440x576 with 1 Axes>"
      ]
     },
     "metadata": {
      "needs_background": "light"
     },
     "output_type": "display_data"
    }
   ],
   "source": [
    "# the histogram of transactions of merchant 'M' per day from the exploited accounts\n",
    "plt.figure(figsize=(20,8))\n",
    "plt.hist(x=exploited_accounts_history[exploited_accounts_history['merchant'] == 'M61']['date'],bins=20,alpha=0.7, rwidth=0.85, color='green')\n",
    "plt.xlabel('Date')\n",
    "plt.ylabel('Number of Transactions')\n",
    "plt.title('Number of Transactions from Exploited Accounts with Merchant M61 vs. Date')\n",
    "plt.ylim([0,35])\n",
    "plt.xticks(rotation='vertical')\n",
    "plt.grid(True)\n",
    "plt.xlim([pd.Timestamp(2015,1,1),pd.Timestamp(2015,1,20)])\n",
    "plt.savefig('plot.png')\n",
    "plt.show()"
   ]
  },
  {
   "cell_type": "markdown",
   "metadata": {
    "_uuid": "27855e36039aa4e17a6a6d3e4b9931b4a4fc3438"
   },
   "source": [
    "### Observations:\n",
    "- The distribution of transactions is close to uniform for merchants 'M8' and 'M61' esp. when compared to 'M18'\n",
    "- There is a clear spike in the number of transactions from the exploited accounts in the date range 2015-01-15 to 2015-01-16\n",
    "- M18 is the best canidate for the compromised merchant\n",
    "- Date range 2015-01-15 to 2015-01-16 is best canidate for the harvest period.\n",
    "\n",
    "### Actions\n",
    "- The identified canidates for the harvest period and the compromised merchant can be further confirmed by comparing the number of exploited accounts that made transactions with the 'M18' in the period of 2015-01-15 to 2015-01-16.\n"
   ]
  },
  {
   "cell_type": "code",
   "execution_count": 11,
   "metadata": {
    "_uuid": "f4b60b7ca3415a5bba93896c3c5aab81f2a1d92c"
   },
   "outputs": [
    {
     "data": {
      "text/html": [
       "<div>\n",
       "<style scoped>\n",
       "    .dataframe tbody tr th:only-of-type {\n",
       "        vertical-align: middle;\n",
       "    }\n",
       "\n",
       "    .dataframe tbody tr th {\n",
       "        vertical-align: top;\n",
       "    }\n",
       "\n",
       "    .dataframe thead th {\n",
       "        text-align: right;\n",
       "    }\n",
       "</style>\n",
       "<table border=\"1\" class=\"dataframe\">\n",
       "  <thead>\n",
       "    <tr style=\"text-align: right;\">\n",
       "      <th></th>\n",
       "      <th>account</th>\n",
       "      <th>date</th>\n",
       "      <th>fraud</th>\n",
       "      <th>merchant</th>\n",
       "    </tr>\n",
       "  </thead>\n",
       "  <tbody>\n",
       "    <tr>\n",
       "      <th>count</th>\n",
       "      <td>56</td>\n",
       "      <td>56</td>\n",
       "      <td>56</td>\n",
       "      <td>56</td>\n",
       "    </tr>\n",
       "    <tr>\n",
       "      <th>unique</th>\n",
       "      <td>53</td>\n",
       "      <td>2</td>\n",
       "      <td>2</td>\n",
       "      <td>1</td>\n",
       "    </tr>\n",
       "    <tr>\n",
       "      <th>top</th>\n",
       "      <td>A203</td>\n",
       "      <td>2015-01-16 00:00:00</td>\n",
       "      <td>False</td>\n",
       "      <td>M18</td>\n",
       "    </tr>\n",
       "    <tr>\n",
       "      <th>freq</th>\n",
       "      <td>2</td>\n",
       "      <td>33</td>\n",
       "      <td>55</td>\n",
       "      <td>56</td>\n",
       "    </tr>\n",
       "    <tr>\n",
       "      <th>first</th>\n",
       "      <td>NaN</td>\n",
       "      <td>2015-01-15 00:00:00</td>\n",
       "      <td>NaN</td>\n",
       "      <td>NaN</td>\n",
       "    </tr>\n",
       "    <tr>\n",
       "      <th>last</th>\n",
       "      <td>NaN</td>\n",
       "      <td>2015-01-16 00:00:00</td>\n",
       "      <td>NaN</td>\n",
       "      <td>NaN</td>\n",
       "    </tr>\n",
       "  </tbody>\n",
       "</table>\n",
       "</div>"
      ],
      "text/plain": [
       "       account                 date  fraud merchant\n",
       "count       56                   56     56       56\n",
       "unique      53                    2      2        1\n",
       "top       A203  2015-01-16 00:00:00  False      M18\n",
       "freq         2                   33     55       56\n",
       "first      NaN  2015-01-15 00:00:00    NaN      NaN\n",
       "last       NaN  2015-01-16 00:00:00    NaN      NaN"
      ]
     },
     "execution_count": 11,
     "metadata": {},
     "output_type": "execute_result"
    }
   ],
   "source": [
    "#get transactions of exploited accounts with merchant 'M18' during the harvest period\n",
    "harvest_period_transactions = df[(df['date'] >= pd.Timestamp(2015,1,15)) &\n",
    "                                (df['date'] <= pd.Timestamp(2015,1,16)) &\n",
    "                                (df['merchant'] == 'M18') &\n",
    "                                df['account'].isin(exploited_accounts)]\n",
    "\n",
    "\n",
    "harvest_period_transactions.describe()"
   ]
  },
  {
   "cell_type": "markdown",
   "metadata": {
    "_uuid": "e7003d02206ed82e6eb460927346d809fd7d981e"
   },
   "source": [
    "# Results:\n",
    "\n",
    "- Compromised Merchant :  M18\n",
    "\n",
    "- Harvest days : From 2015–01–15 until 2015–01–16 inclusive\n",
    "\n",
    "- Exploit days : From 2015-01-21 until 2015-01-23 inclusive\n"
   ]
  },
  {
   "cell_type": "code",
   "execution_count": null,
   "metadata": {
    "_uuid": "36bf480d5f5d5ceea19d87f2d1ef0f7605480150"
   },
   "outputs": [],
   "source": []
  },
  {
   "cell_type": "code",
   "execution_count": null,
   "metadata": {
    "_uuid": "9d4da487c15fca65991435c7115456082a6753b5"
   },
   "outputs": [],
   "source": []
  },
  {
   "cell_type": "code",
   "execution_count": null,
   "metadata": {
    "_uuid": "ee75c94de0c005bac85e31598b5a91ee4dfbb328"
   },
   "outputs": [],
   "source": []
  }
 ],
 "metadata": {
  "kernelspec": {
   "display_name": "Python 3",
   "language": "python",
   "name": "python3"
  },
  "language_info": {
   "codemirror_mode": {
    "name": "ipython",
    "version": 3
   },
   "file_extension": ".py",
   "mimetype": "text/x-python",
   "name": "python",
   "nbconvert_exporter": "python",
   "pygments_lexer": "ipython3",
   "version": "3.6.7"
  }
 },
 "nbformat": 4,
 "nbformat_minor": 1
}
